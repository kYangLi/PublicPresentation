{
 "cells": [
  {
   "source": [
    "# Import Necessary modules"
   ],
   "cell_type": "markdown",
   "metadata": {}
  },
  {
   "cell_type": "code",
   "execution_count": 1,
   "metadata": {},
   "outputs": [
    {
     "output_type": "stream",
     "name": "stdout",
     "text": [
      "[do] Import necessary modules...\n",
      "[done] Module good!\n"
     ]
    }
   ],
   "source": [
    "print(\"[do] Import necessary modules...\")\n",
    "\n",
    "import os\n",
    "import numpy as np\n",
    "import glob\n",
    "from time import strftime\n",
    "from h5py import File as h5_file\n",
    "import matplotlib.pyplot as plt\n",
    "import scipy.interpolate\n",
    "from scipy import optimize\n",
    "\n",
    "print(\"[done] Module good!\")"
   ]
  },
  {
   "source": [
    "# Study the elastic peak\n",
    "\n",
    "## Read in the RIXS data and calculate its average function"
   ],
   "cell_type": "markdown",
   "metadata": {}
  },
  {
   "cell_type": "code",
   "execution_count": null,
   "metadata": {},
   "outputs": [],
   "source": [
    "guess = [1,1,1,1,1,1,1,1,1,1,1,1]\n",
    "lowbound = [0,0,0,0,0,0,0,0,0,0,0,0]\n",
    "highbound = [2,2,2,2,2,2,2,2,2,2,2,2]\n",
    "fitx, fity = get_fit_data()"
   ]
  },
  {
   "source": [
    "## Fitting the Phonons"
   ],
   "cell_type": "markdown",
   "metadata": {}
  },
  {
   "cell_type": "code",
   "execution_count": 15,
   "metadata": {},
   "outputs": [],
   "source": [
    "def gaussian(x,*params):\n",
    "    y = params[0] * np.exp(-((x-params[1])/(np.sqrt(2)*params[2]))**2) / \\\n",
    "        np.sqrt(2*np.pi*params[2]*params[2])\n",
    "    return y\n",
    "\n",
    "def lorentz(x,*params):\n",
    "    y = (params[0] /(1+((x-params[1])/params[2])**2))/(np.pi*params[2])\n",
    "    return y\n",
    "\n",
    "def alorentz(x,*params):\n",
    "    y = params[0] * \\\n",
    "        (params[2]*x / ((x**2-params[1]**2)**2 + (2*params[2]*x)**2)) \\\n",
    "        * np.heaviside(x, 0)\n",
    "    return y\n",
    "\n",
    "def final_func(x,*params):\n",
    "    y = gaussian(x, *params[1:3]) + \\\n",
    "        gaussian(x, *params[3:6]) + \\\n",
    "        alorentz(x, *params[6:9]) + \\\n",
    "        gaussian(x, *params[9:12])\n",
    "    return y\n",
    "\n",
    "params, params_covariance = optimize.curve_fit(final_func, fitx, fity, p0=guess,\n",
    "                                               bounds=(lowbound, highbound))"
   ]
  },
  {
   "cell_type": "code",
   "execution_count": null,
   "metadata": {},
   "outputs": [],
   "source": [
    "\n"
   ]
  }
 ],
 "metadata": {
  "kernelspec": {
   "name": "python388jvsc74a57bd0a00524c0762d99673b2060defa067eb67817cc1b44a274785cba636b44e580e0",
   "display_name": "Python 3.8.8 64-bit ('jxy': conda)"
  },
  "language_info": {
   "codemirror_mode": {
    "name": "ipython",
    "version": 3
   },
   "file_extension": ".py",
   "mimetype": "text/x-python",
   "name": "python",
   "nbconvert_exporter": "python",
   "pygments_lexer": "ipython3",
   "version": "3.8.8"
  }
 },
 "nbformat": 4,
 "nbformat_minor": 2
}